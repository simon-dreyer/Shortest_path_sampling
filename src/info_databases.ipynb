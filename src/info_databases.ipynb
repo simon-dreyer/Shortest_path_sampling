{
 "cells": [
  {
   "cell_type": "code",
   "execution_count": 1,
   "id": "ad81c2f7",
   "metadata": {},
   "outputs": [],
   "source": [
    "# def read_integers_from_file(file):\n",
    "#     integer_pairs = set()\n",
    "#     for line in file:\n",
    "#         # Split the line into two parts\n",
    "#         parts = line.strip().split()\n",
    "#         if True:\n",
    "#             try:\n",
    "#                 # Convert the parts to integers\n",
    "#                 num1 = int(parts[0])\n",
    "#                 num2 = int(parts[1])\n",
    "#                 # Append the tuple (num1, num2) to the list\n",
    "#                 if (num1, num2) not in integer_pairs and num1 != num2:\n",
    "#                     integer_pairs.add((num1, num2))\n",
    "#             except ValueError:\n",
    "#                 print(f\"Warning: Skipping line with non-integer values: {line.strip()}\")\n",
    "#         else:\n",
    "#             print(f\"Warning: Skipping line with incorrect format: {line.strip()}\")    \n",
    "#     return integer_pairs"
   ]
  },
  {
   "cell_type": "code",
   "execution_count": 2,
   "id": "8ef6ec17",
   "metadata": {},
   "outputs": [],
   "source": [
    "# import networkx as nx\n",
    "# direc = \"datasets/\"\n",
    "# import os\n",
    "\n",
    "# for filename in l:\n",
    "#     print(filename)\n",
    "#     with open(os.path.join(direc, filename+\"2\"), 'r') as f:\n",
    "#         ed = read_integers_from_file(f)\n",
    "#         with open(direc+filename+\"_simple\", 'w') as f2:\n",
    "#             for e in ed:\n",
    "#                 f2.write(str(e[0])+\" \"+str(e[1])+\"\\n\" )"
   ]
  },
  {
   "cell_type": "code",
   "execution_count": 3,
   "id": "63ea8997",
   "metadata": {},
   "outputs": [],
   "source": [
    "# import networkx as nx\n",
    "# direc = \"datasets/\"\n",
    "# import os\n",
    "\n",
    "# for filename in l:\n",
    "#     with open(os.path.join(direc, filename+\"_simple\"), 'r') as f:\n",
    "#         with open(direc+filename+\"_norm\", 'w') as f2:\n",
    "#             ed = read_integers_from_file(f)\n",
    "#             g = nx.DiGraph()\n",
    "#             for e in ed:\n",
    "#                 g.add_edge(e[0],e[1])\n",
    "#             g = nx.convert_node_labels_to_integers(g)\n",
    "#             print(filename, len(g.nodes()), len(g.edges()))\n",
    "#             nx.write_edgelist(g, direc+filename[:-1], data=False)\n",
    "# #             for e in l:\n",
    "# #                 f2.write(str(e[0])+\" \"+str(e[1])+\"\\n\")"
   ]
  },
  {
   "cell_type": "code",
   "execution_count": 4,
   "id": "a2a04cd7",
   "metadata": {},
   "outputs": [],
   "source": [
    "# for name in l:\n",
    "#     with open(os.path.join(direc, name), 'r') as f:\n",
    "#         with open(os.path.join(direc, name+\"2\"), 'w') as f2:\n",
    "#             for line in f:\n",
    "#                 for e in line:\n",
    "#                     if e == '\\t':\n",
    "#                         f2.write(\" \")\n",
    "#                     else:\n",
    "#                         f2.write(e)"
   ]
  },
  {
   "cell_type": "code",
   "execution_count": 5,
   "id": "0c298cc5",
   "metadata": {},
   "outputs": [],
   "source": [
    "# with open(os.path.join(direc, \"linux_mail2\"), 'r') as f:\n",
    "#         ed = read_integers_from_file(f)\n",
    "#         with open(direc+\"linux_mail3\", 'w') as f2:\n",
    "#             for e in ed:\n",
    "#                 f2.write(str(e[0])+\" \"+str(e[1])+\"\\n\" )"
   ]
  },
  {
   "cell_type": "code",
   "execution_count": 9,
   "id": "8c36ef50",
   "metadata": {},
   "outputs": [
    {
     "name": "stdout",
     "output_type": "stream",
     "text": [
      "astro_ph.edges 18771 198050\n",
      "epinions.edges 75879 508837\n",
      "linux_mail.edges 26885 237131\n",
      "livemocha.edges 104103 2193083\n",
      "slashdot.edges 51083 130370\n",
      "paris.edges 9518 18256\n",
      "sao-paulo.edges 121542 300913\n",
      "tokyo.edges 279015 736613\n",
      "delhi.edges 180125 490214\n",
      "cairo.edges 136147 320052\n"
     ]
    }
   ],
   "source": [
    "import networkx as nx\n",
    "direc = \"datasets/\"\n",
    "import os\n",
    "\n",
    "l = [\"astro_ph.edges\", \"epinions.edges\", \"linux_mail.edges\", \"livemocha.edges\", \"slashdot.edges\", \"paris.edges\", \"sao-paulo.edges\", \"tokyo.edges\", \"delhi.edges\", \"cairo.edges\"]\n",
    "for e in l:\n",
    "    g = nx.read_edgelist(direc+e[:-1], create_using=nx.DiGraph, nodetype=int, data=False)\n",
    "    n,m = len(g.nodes()), len(g.edges())\n",
    "    print(e,n,m)"
   ]
  },
  {
   "cell_type": "code",
   "execution_count": null,
   "id": "843352be",
   "metadata": {},
   "outputs": [],
   "source": []
  }
 ],
 "metadata": {
  "kernelspec": {
   "display_name": "Python 3 (ipykernel)",
   "language": "python",
   "name": "python3"
  },
  "language_info": {
   "codemirror_mode": {
    "name": "ipython",
    "version": 3
   },
   "file_extension": ".py",
   "mimetype": "text/x-python",
   "name": "python",
   "nbconvert_exporter": "python",
   "pygments_lexer": "ipython3",
   "version": "3.10.12"
  }
 },
 "nbformat": 4,
 "nbformat_minor": 5
}
