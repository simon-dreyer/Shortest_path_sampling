{
 "cells": [
  {
   "cell_type": "code",
   "execution_count": 6,
   "id": "30eb8dbc",
   "metadata": {},
   "outputs": [],
   "source": [
    "def human_format(num):\n",
    "    num = float('{:.3g}'.format(num))\n",
    "    magnitude = 0\n",
    "    while abs(num) >= 1000:\n",
    "        magnitude += 1\n",
    "        num /= 1000.0\n",
    "    return '{}{}'.format('{:f}'.format(num).rstrip('0').rstrip('.'), ['', 'K', 'M', 'B', 'T'][magnitude])"
   ]
  },
  {
   "cell_type": "code",
   "execution_count": 28,
   "id": "8c36ef50",
   "metadata": {},
   "outputs": [],
   "source": [
    "import networkx as nx\n",
    "direc = \"datasets/\"\n",
    "import os\n",
    "ll = []\n",
    "l = [[\"astro_ph\",\"u\"], [\"power_grid\", \"u\"], [\"hamster_full\",\"u\"], [\"linux_mail\",\"d\"], [\"slashdot\", \"d\"], [\"milan\", \"d\"], [\"vienna\",\"d\"], [\"paris\",\"d\"] ]\n",
    "for e in l:\n",
    "    g = nx.read_edgelist(direc+e[0]+\".edge\", create_using=nx.DiGraph, nodetype=int, data=False)\n",
    "    n = len(g.nodes())* len(g.edges())\n",
    "    ll.append( [n, e] )\n",
    "ll.sort()\n",
    "l = [  e[1]  for e in ll]"
   ]
  },
  {
   "cell_type": "code",
   "execution_count": 29,
   "id": "843352be",
   "metadata": {},
   "outputs": [
    {
     "name": "stdout",
     "output_type": "stream",
     "text": [
      "power_grid & u & 4.94K & 6.59K \\\\\n",
      "hamster_full & u & 2.43K & 16.6K \\\\\n",
      "paris & d & 9.52K & 18.3K \\\\\n",
      "milan & d & 12.9K & 25.3K \\\\\n",
      "vienna & d & 16.1K & 35.7K \\\\\n",
      "astro_ph & u & 18.8K & 198K \\\\\n",
      "linux_mail & d & 26.9K & 237K \\\\\n",
      "slashdot & d & 51.1K & 130K \\\\\n"
     ]
    }
   ],
   "source": [
    "for e in l:\n",
    "    g = nx.read_edgelist(direc+e[0]+\".edge\", create_using=nx.DiGraph, nodetype=int, data=False)\n",
    "    n,m = len(g.nodes()), len(g.edges())\n",
    "    print(e[0],\"&\",e[1],\"&\",human_format(n),\"&\",human_format(m),\"\\\\\\\\\")"
   ]
  },
  {
   "cell_type": "code",
   "execution_count": 2,
   "id": "13a78f1e",
   "metadata": {},
   "outputs": [],
   "source": [
    "import math\n",
    "nb_nodes = 1024*16\n",
    "nb_graphs_er = 5\n",
    "start = 3\n",
    "nb_graphs_ba = 3\n",
    "start_ba = 4\n",
    "list_grid = [ ( int(math.sqrt(nb_nodes)),int(math.sqrt(nb_nodes))), (4,nb_nodes//4), (16,nb_nodes//16) ]\n"
   ]
  },
  {
   "cell_type": "code",
   "execution_count": 3,
   "id": "b51af8a4",
   "metadata": {},
   "outputs": [],
   "source": [
    "def repr(i):\n",
    "    if type(i) == int:\n",
    "        return str(i)\n",
    "    else:\n",
    "        return str(i[0])+\"_\"+str(i[1])\n",
    "def name(i):\n",
    "    if i[0] != \"gr\":\n",
    "        return i[0]+\"\\_\"+str(i[1])\n",
    "    else:\n",
    "        return \"gr\\_\"+str(i[1][0])+\"\\_\"+str(i[1][1])"
   ]
  },
  {
   "cell_type": "code",
   "execution_count": 4,
   "id": "1eaf0027",
   "metadata": {},
   "outputs": [],
   "source": [
    "import networkx as nx\n",
    "direc = \"synthetique_databases/\"\n",
    "import os\n",
    "ll = []\n",
    "l = [(\"er\", i) for i in range(start, nb_graphs_er+start, 2)]\n",
    "l += [(\"ba\", i) for i in range(start_ba, nb_graphs_ba+start_ba,2)]\n",
    "l += [ (\"gr\", e) for e in list_grid ]\n",
    "\n",
    "for x in l:\n",
    "    g = nx.read_edgelist(direc + \"/\" + x[0] +\"_\" + str(nb_nodes) + \"_\" + repr(x[1]) + \".edges\", create_using=nx.Graph, nodetype=int, data=False)\n",
    "    n = len(g.nodes())* len(g.edges())\n",
    "    ll.append( [n, x] )\n",
    "ll.sort()\n",
    "l = [  e[1]  for e in ll]"
   ]
  },
  {
   "cell_type": "code",
   "execution_count": 8,
   "id": "0eedd964",
   "metadata": {},
   "outputs": [
    {
     "name": "stdout",
     "output_type": "stream",
     "text": [
      "gr\\_4\\_4096 & u & 16.4K & 28.7K & \\\\\n",
      "gr\\_16\\_1024 & u & 16.4K & 31.7K & \\\\\n",
      "gr\\_128\\_128 & u & 16.4K & 32.5K & \\\\\n",
      "ba\\_4 & u & 16.4K & 65.5K & \\\\\n",
      "ba\\_6 & u & 16.4K & 98.3K & \\\\\n",
      "er\\_3 & u & 16.4K & 238K & \\\\\n",
      "er\\_5 & u & 16.4K & 398K & \\\\\n",
      "er\\_7 & u & 16.4K & 558K & \\\\\n"
     ]
    }
   ],
   "source": [
    "for x in l:\n",
    "    g = nx.read_edgelist(direc + \"/\" + x[0] +\"_\" + str(nb_nodes) + \"_\" + repr(x[1]) + \".edges\", create_using=nx.DiGraph, nodetype=int, data=False)\n",
    "    n,m = len(g.nodes()), len(g.edges())\n",
    "    print(name(x),\"&\",\"u\",\"&\",human_format(n),\"&\",human_format(m), \"&\",\"\\\\\\\\\")"
   ]
  },
  {
   "cell_type": "code",
   "execution_count": null,
   "id": "6947ca99",
   "metadata": {},
   "outputs": [],
   "source": []
  }
 ],
 "metadata": {
  "kernelspec": {
   "display_name": "Python 3 (ipykernel)",
   "language": "python",
   "name": "python3"
  },
  "language_info": {
   "codemirror_mode": {
    "name": "ipython",
    "version": 3
   },
   "file_extension": ".py",
   "mimetype": "text/x-python",
   "name": "python",
   "nbconvert_exporter": "python",
   "pygments_lexer": "ipython3",
   "version": "3.10.12"
  }
 },
 "nbformat": 4,
 "nbformat_minor": 5
}
