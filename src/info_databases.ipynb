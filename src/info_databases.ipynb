{
 "cells": [
  {
   "cell_type": "code",
   "execution_count": 2,
   "id": "8c36ef50",
   "metadata": {},
   "outputs": [
    {
     "name": "stdout",
     "output_type": "stream",
     "text": [
      "astro_ph.edges 18771 198050\n",
      "epinions.edges 75879 508837\n",
      "linux_mail.edges 26885 237131\n",
      "livemocha.edges 104103 2193083\n",
      "slashdot.edges 51083 130370\n",
      "paris.edges 9518 18256\n",
      "sao-paulo.edges 121542 300913\n",
      "tokyo.edges 279015 736613\n",
      "delhi.edges 180125 490214\n",
      "cairo.edges 136147 320052\n"
     ]
    }
   ],
   "source": [
    "import networkx as nx\n",
    "direc = \"datasets/\"\n",
    "import os\n",
    "\n",
    "l = [\"astro_ph.edges\", \"epinions.edges\", \"linux_mail.edges\", \"livemocha.edges\", \"slashdot.edges\", \"paris.edges\", \"sao-paulo.edges\", \"tokyo.edges\", \"delhi.edges\", \"cairo.edges\"]\n",
    "for e in l:\n",
    "    g = nx.read_edgelist(direc+e[:-1], create_using=nx.DiGraph, nodetype=int, data=False)\n",
    "    n,m = len(g.nodes()), len(g.edges())\n",
    "    print(e,n,m)"
   ]
  },
  {
   "cell_type": "code",
   "execution_count": null,
   "id": "843352be",
   "metadata": {},
   "outputs": [],
   "source": []
  }
 ],
 "metadata": {
  "kernelspec": {
   "display_name": "Python 3 (ipykernel)",
   "language": "python",
   "name": "python3"
  },
  "language_info": {
   "codemirror_mode": {
    "name": "ipython",
    "version": 3
   },
   "file_extension": ".py",
   "mimetype": "text/x-python",
   "name": "python",
   "nbconvert_exporter": "python",
   "pygments_lexer": "ipython3",
   "version": "3.10.12"
  }
 },
 "nbformat": 4,
 "nbformat_minor": 5
}
