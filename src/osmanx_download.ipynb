{
 "cells": [
  {
   "cell_type": "code",
   "execution_count": 88,
   "id": "7fd2bcb6",
   "metadata": {},
   "outputs": [],
   "source": [
    "#paris, sao-paolo, tokyo, delhi, cairo\n",
    "import osmnx as ox\n",
    "G = ox.graph_from_place(\"Paris, France\", network_type=\"drive\", truncate_by_edge=False)"
   ]
  },
  {
   "cell_type": "code",
   "execution_count": 89,
   "id": "12879174",
   "metadata": {},
   "outputs": [
    {
     "data": {
      "text/plain": [
       "(9518, 18321)"
      ]
     },
     "execution_count": 89,
     "metadata": {},
     "output_type": "execute_result"
    }
   ],
   "source": [
    "len(G.nodes()), len(G.edges())"
   ]
  },
  {
   "cell_type": "code",
   "execution_count": 90,
   "id": "72f166ee",
   "metadata": {},
   "outputs": [
    {
     "name": "stderr",
     "output_type": "stream",
     "text": [
      "/tmp/ipykernel_210221/682572401.py:1: FutureWarning: The `get_digraph` function is deprecated and will be removed in the v2.0.0 release. Replace it with `convert.to_digraph` instead. See the OSMnx v2 migration guide: https://github.com/gboeing/osmnx/issues/1123\n",
      "  D = ox.utils_graph.get_digraph(G)\n"
     ]
    }
   ],
   "source": [
    "D = ox.utils_graph.get_digraph(G)"
   ]
  },
  {
   "cell_type": "code",
   "execution_count": 91,
   "id": "8c7b071b",
   "metadata": {},
   "outputs": [
    {
     "data": {
      "text/plain": [
       "(9518, 18273)"
      ]
     },
     "execution_count": 91,
     "metadata": {},
     "output_type": "execute_result"
    }
   ],
   "source": [
    "len(D.nodes()), len(D.edges())"
   ]
  },
  {
   "cell_type": "code",
   "execution_count": 92,
   "id": "d211b7f5",
   "metadata": {},
   "outputs": [],
   "source": [
    "import networkx as nx"
   ]
  },
  {
   "cell_type": "code",
   "execution_count": 93,
   "id": "3bd3eddf",
   "metadata": {},
   "outputs": [],
   "source": [
    "LG = nx.convert_node_labels_to_integers(D)"
   ]
  },
  {
   "cell_type": "code",
   "execution_count": 94,
   "id": "48a66dda",
   "metadata": {},
   "outputs": [
    {
     "data": {
      "text/plain": [
       "[(0, 6458),\n",
       " (0, 768),\n",
       " (0, 5780),\n",
       " (0, 7724),\n",
       " (1, 3349),\n",
       " (1, 5543),\n",
       " (1, 5750),\n",
       " (2, 5775),\n",
       " (3, 1652),\n",
       " (3, 2)]"
      ]
     },
     "execution_count": 94,
     "metadata": {},
     "output_type": "execute_result"
    }
   ],
   "source": [
    "list(LG.edges())[:10]"
   ]
  },
  {
   "cell_type": "code",
   "execution_count": 95,
   "id": "43f6adba",
   "metadata": {},
   "outputs": [],
   "source": [
    "nx.write_edgelist(LG, \"datasets/paris.edges2\", data=False)"
   ]
  },
  {
   "cell_type": "code",
   "execution_count": null,
   "id": "63c28f6c",
   "metadata": {},
   "outputs": [],
   "source": []
  }
 ],
 "metadata": {
  "kernelspec": {
   "display_name": "Python 3 (ipykernel)",
   "language": "python",
   "name": "python3"
  },
  "language_info": {
   "codemirror_mode": {
    "name": "ipython",
    "version": 3
   },
   "file_extension": ".py",
   "mimetype": "text/x-python",
   "name": "python",
   "nbconvert_exporter": "python",
   "pygments_lexer": "ipython3",
   "version": "3.10.12"
  }
 },
 "nbformat": 4,
 "nbformat_minor": 5
}
