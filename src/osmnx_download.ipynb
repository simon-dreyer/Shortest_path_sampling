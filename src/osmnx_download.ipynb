{
 "cells": [
  {
   "cell_type": "code",
   "execution_count": 1,
   "id": "5381bcbf",
   "metadata": {},
   "outputs": [],
   "source": [
    "#paris, sao-paolo, tokyo, delhi, cairo\n",
    "import osmnx as ox\n",
    "G = ox.graph_from_place(\"Milan, Italy\", network_type=\"drive\", truncate_by_edge=False)"
   ]
  },
  {
   "cell_type": "code",
   "execution_count": 2,
   "id": "134be286",
   "metadata": {},
   "outputs": [
    {
     "data": {
      "text/plain": [
       "(12866, 25341)"
      ]
     },
     "execution_count": 2,
     "metadata": {},
     "output_type": "execute_result"
    }
   ],
   "source": [
    "len(G.nodes()), len(G.edges())"
   ]
  },
  {
   "cell_type": "code",
   "execution_count": 3,
   "id": "91bdbbc1",
   "metadata": {},
   "outputs": [],
   "source": [
    "D = ox.utils_graph.get_digraph(G)"
   ]
  },
  {
   "cell_type": "code",
   "execution_count": 4,
   "id": "6cd634d3",
   "metadata": {},
   "outputs": [
    {
     "data": {
      "text/plain": [
       "(12866, 25272)"
      ]
     },
     "execution_count": 4,
     "metadata": {},
     "output_type": "execute_result"
    }
   ],
   "source": [
    "len(D.nodes()), len(D.edges())"
   ]
  },
  {
   "cell_type": "code",
   "execution_count": 5,
   "id": "8868b6b8",
   "metadata": {},
   "outputs": [],
   "source": [
    "import networkx as nx"
   ]
  },
  {
   "cell_type": "code",
   "execution_count": 6,
   "id": "940571e3",
   "metadata": {},
   "outputs": [],
   "source": [
    "LG = nx.convert_node_labels_to_integers(D)"
   ]
  },
  {
   "cell_type": "code",
   "execution_count": 7,
   "id": "0a7523c3",
   "metadata": {},
   "outputs": [
    {
     "data": {
      "text/plain": [
       "[(0, 7306),\n",
       " (0, 7305),\n",
       " (1, 10704),\n",
       " (2, 4862),\n",
       " (2, 6057),\n",
       " (2, 12473),\n",
       " (3, 2478),\n",
       " (3, 2407),\n",
       " (4, 6),\n",
       " (4, 2562)]"
      ]
     },
     "execution_count": 7,
     "metadata": {},
     "output_type": "execute_result"
    }
   ],
   "source": [
    "list(LG.edges())[:10]"
   ]
  },
  {
   "cell_type": "code",
   "execution_count": 8,
   "id": "e108ae5b",
   "metadata": {},
   "outputs": [],
   "source": [
    "nx.write_edgelist(LG, \"datasets/milan.edge\", data=False)"
   ]
  },
  {
   "cell_type": "code",
   "execution_count": null,
   "id": "9977aa6a",
   "metadata": {},
   "outputs": [],
   "source": []
  }
 ],
 "metadata": {
  "kernelspec": {
   "display_name": "Python 3 (ipykernel)",
   "language": "python",
   "name": "python3"
  },
  "language_info": {
   "codemirror_mode": {
    "name": "ipython",
    "version": 3
   },
   "file_extension": ".py",
   "mimetype": "text/x-python",
   "name": "python",
   "nbconvert_exporter": "python",
   "pygments_lexer": "ipython3",
   "version": "3.10.12"
  }
 },
 "nbformat": 4,
 "nbformat_minor": 5
}
