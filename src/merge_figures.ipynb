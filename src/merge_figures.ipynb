{
 "cells": [
  {
   "cell_type": "code",
   "execution_count": 10,
   "id": "6d7dc71a",
   "metadata": {},
   "outputs": [],
   "source": [
    "import pickle\n",
    "def read_dic(s):\n",
    "    with open(s+'.pickle', 'rb') as handle:\n",
    "        b = pickle.load(handle)\n",
    "        return b"
   ]
  },
  {
   "cell_type": "code",
   "execution_count": 11,
   "id": "e9fa7757",
   "metadata": {},
   "outputs": [],
   "source": [
    "import networkx as nx\n",
    "direc = \"datasets/\"\n",
    "import os\n",
    "ll = []\n",
    "lr = [[\"astro_ph\",\"u\"], [\"power_grid\", \"u\"], [\"hamster_full\",\"u\"], [\"linux_mail\",\"d\"], [\"slashdot\", \"d\"], [\"milan\", \"d\"], [\"vienna\",\"d\"], [\"paris\",\"d\"] ]\n",
    "for e in lr:\n",
    "    g = nx.read_edgelist(direc+e[0]+\".edge\", create_using=nx.DiGraph, nodetype=int, data=False)\n",
    "    n = len(g.nodes())* len(g.edges())\n",
    "    ll.append( [n, e] )\n",
    "ll.sort()\n",
    "lr = [  e[1]  for e in ll]"
   ]
  },
  {
   "cell_type": "code",
   "execution_count": 48,
   "id": "8f170c69",
   "metadata": {},
   "outputs": [],
   "source": [
    "import math\n",
    "nb_nodes = 1024*16\n",
    "nb_graphs_er = 5\n",
    "start = 3\n",
    "nb_graphs_ba = 3\n",
    "start_ba = 4\n",
    "list_grid = [ ( int(math.sqrt(nb_nodes)),int(math.sqrt(nb_nodes))), (4,nb_nodes//4), (16,nb_nodes//16) ]\n",
    "\n",
    "\n",
    "def repr(i):\n",
    "    if type(i) == int:\n",
    "        return str(i)\n",
    "    else:\n",
    "        return str(i[0])+\"_\"+str(i[1])\n",
    "def name(i):\n",
    "    if i[0] != \"gr\":\n",
    "        return i[0]+\"_\"+str(i[1])\n",
    "    else:\n",
    "        return str(i[1][0])#+\"_\"+str(i[1][1])\n",
    "    \n",
    "import networkx as nx\n",
    "direc = \"synthetique_databases/\"\n",
    "import os\n",
    "ll = []\n",
    "ls = [(\"er\", i) for i in range(start, nb_graphs_er+start, 2)]\n",
    "ls += [(\"ba\", i) for i in range(start_ba, nb_graphs_ba+start_ba,2)]\n",
    "ls += [ (\"gr\", e) for e in list_grid ]\n",
    "\n",
    "for x in ls:\n",
    "    g = nx.read_edgelist(direc + \"/\" + x[0] +\"_\" + str(nb_nodes) + \"_\" + repr(x[1]) + \".edges\", create_using=nx.Graph, nodetype=int, data=False)\n",
    "    n = len(g.nodes())* len(g.edges())\n",
    "    ll.append( [n, name(x)] )\n",
    "ll.sort()\n",
    "ls = [  e[1]  for e in ll]"
   ]
  },
  {
   "cell_type": "code",
   "execution_count": 50,
   "id": "b76066f9",
   "metadata": {},
   "outputs": [],
   "source": [
    "import matplotlib.pyplot as plt\n",
    "import numpy as np\n",
    "\n",
    "def plot_bar_chart(data, lr, ls, xlabel, ylabel, legend, filename, dim1 = 8, dim2 = 5, bar_w = 0.15):\n",
    "    \"\"\"\n",
    "    Plots a bar chart where the x-axis is represented by the keys of the dictionary.\n",
    "    Each key in the dictionary maps to another dictionary with 4 keys representing bars.\n",
    "    The values are tuples (mean, standard deviation).\n",
    "\n",
    "    :param data: Dictionary containing the data to plot\n",
    "    \"\"\"\n",
    "\n",
    "    categories = list(data.keys())\n",
    "    categories = list(map(lambda x : x[0][:3], lr )) + ls\n",
    "    subcategories = list(next(iter(data.values())).keys())\n",
    "    \n",
    "    \n",
    "    # Number of groups and bars per group\n",
    "    n_groups = len(categories)\n",
    "    n_bars = len(subcategories)\n",
    "    \n",
    "    fig, ax = plt.subplots(figsize=(dim1, dim2))\n",
    "    \n",
    "    # Create figure and axis\n",
    "    #fig, ax = plt.subplots()\n",
    "\n",
    "    # Bar width\n",
    "    bar_width = bar_w\n",
    "\n",
    "    # X locations for the groups\n",
    "    index = np.arange(n_groups)\n",
    "    \n",
    "    # Iterate through each subcategory and plot the bars\n",
    "    for i, subcategory in enumerate(subcategories):\n",
    "        means = [data[category][subcategory][0] for category in categories]\n",
    "        std_devs = [data[category][subcategory][1] for category in categories]\n",
    "        ax.bar(index + i * bar_width, means, bar_width, yerr=std_devs, label=subcategory)\n",
    "\n",
    "    # Add labels, title, and legend\n",
    "    ax.set_xlabel(xlabel)\n",
    "    ax.set_ylabel(ylabel)\n",
    "    ax.set_title(legend)\n",
    "    ax.set_xticks(index + bar_width * (n_bars - 1) / 2)\n",
    "    ax.set_xticklabels(categories)\n",
    "    ax.legend()\n",
    "\n",
    "\n",
    "    # Show plot\n",
    "    plt.rcParams.update({'font.size': 13})\n",
    "    plt.tight_layout()\n",
    "    plt.savefig(filename)\n",
    "    plt.show()\n",
    "    plt.close()\n",
    "\n",
    "# # Example usage:\n",
    "# data = {\n",
    "#     'A': {'bar1': (5, 1), 'bar2': (6, 1.5), 'bar3': (7, 2), 'bar4': (8, 2.5)},\n",
    "#     'B': {'bar1': (4, 1.2), 'bar2': (5, 1.3), 'bar3': (6, 1.8), 'bar4': (7, 2.1)},\n",
    "#     'C': {'bar1': (3, 0.8), 'bar2': (4, 1.1), 'bar3': (5, 1.6), 'bar4': (6, 2.0)}\n",
    "# }\n",
    "\n",
    "# data = {i:  { e: calculate_mean_and_std(d[i][e])   for e in algos }  for i in list_p}\n",
    "\n",
    "# plot_bar_chart(data)"
   ]
  },
  {
   "cell_type": "code",
   "execution_count": 51,
   "id": "51aba75d",
   "metadata": {},
   "outputs": [],
   "source": [
    "queries_real = read_dic(\"dics/queries_real\")\n",
    "queries_synth = read_dic(\"dics/queries_synth\")\n",
    "pre_real = read_dic(\"dics/pre_comp_real\")\n",
    "pre_synth = read_dic(\"dics/pre_computation_synth\")"
   ]
  },
  {
   "cell_type": "code",
   "execution_count": 52,
   "id": "2db9aa10",
   "metadata": {},
   "outputs": [],
   "source": [
    "keys_change = { \"128\":\"128_128\", \"4\":\"4_4096\", \"16\":\"16_1024\" }\n",
    "for e in keys_change.keys():\n",
    "    queries_synth[e] = queries_synth[keys_change[e]]\n",
    "    del queries_synth[keys_change[e]]\n",
    "    pre_synth[e] = pre_synth[keys_change[e]]\n",
    "    del pre_synth[keys_change[e]]\n"
   ]
  },
  {
   "cell_type": "code",
   "execution_count": 53,
   "id": "bee280f5",
   "metadata": {},
   "outputs": [],
   "source": [
    "# del queries_synth[\"er_4\"]\n",
    "# del queries_synth[\"er_6\"]\n",
    "# del queries_synth[\"ba_5\"]\n",
    "# del pre_synth[\"er_4\"]\n",
    "# del pre_synth[\"er_6\"]\n",
    "# del pre_synth[\"ba_5\"]\n",
    "# ls.remove(\"er_4\")\n",
    "# ls.remove(\"er_6\")\n",
    "# ls.remove(\"ba_5\")"
   ]
  },
  {
   "cell_type": "code",
   "execution_count": 54,
   "id": "214fd5c2",
   "metadata": {},
   "outputs": [],
   "source": [
    "queries = queries_real | queries_synth\n",
    "pre = pre_real | pre_synth"
   ]
  },
  {
   "cell_type": "code",
   "execution_count": 66,
   "id": "70420beb",
   "metadata": {},
   "outputs": [],
   "source": [
    "for e in pre.keys():\n",
    "    for ee in pre[e].keys():\n",
    "        new_tup =  tuple( [   jj/1000  for jj in pre[e][ee]] )\n",
    "        pre[e][ee] = new_tup"
   ]
  },
  {
   "cell_type": "code",
   "execution_count": 67,
   "id": "ddcfa7fa",
   "metadata": {},
   "outputs": [],
   "source": [
    "import matplotlib \n",
    "matplotlib.rc('xtick', labelsize=15) \n",
    "matplotlib.rc('ytick', labelsize=15) \n"
   ]
  },
  {
   "cell_type": "code",
   "execution_count": 68,
   "id": "a7614777",
   "metadata": {},
   "outputs": [
    {
     "data": {
      "image/png": "[encoded data removed]",
      "text/plain": [
       "<Figure size 720x216 with 1 Axes>"
      ]
     },
     "metadata": {
      "needs_background": "light"
     },
     "output_type": "display_data"
    }
   ],
   "source": [
    "plot_bar_chart(queries, lr, ls, \"\", \"#operations per unit length\", \"average #operations on queries\", \"queries.pdf\", dim1 = 10, dim2 = 3)"
   ]
  },
  {
   "cell_type": "code",
   "execution_count": 70,
   "id": "4ceef5b9",
   "metadata": {},
   "outputs": [
    {
     "data": {
      "image/png": "[encoded data removed]",
      "text/plain": [
       "<Figure size 720x252 with 1 Axes>"
      ]
     },
     "metadata": {
      "needs_background": "light"
     },
     "output_type": "display_data"
    }
   ],
   "source": [
    "plot_bar_chart(pre, lr, ls, \"real-world and synth. datasets\", \"#time in sec.\", \"average pre-computation time\", \"pre_comp.pdf\",  dim1 = 10, dim2 = 3.5)"
   ]
  },
  {
   "cell_type": "code",
   "execution_count": null,
   "id": "6858b327",
   "metadata": {},
   "outputs": [],
   "source": []
  }
 ],
 "metadata": {
  "kernelspec": {
   "display_name": "Python 3 (ipykernel)",
   "language": "python",
   "name": "python3"
  },
  "language_info": {
   "codemirror_mode": {
    "name": "ipython",
    "version": 3
   },
   "file_extension": ".py",
   "mimetype": "text/x-python",
   "name": "python",
   "nbconvert_exporter": "python",
   "pygments_lexer": "ipython3",
   "version": "3.10.12"
  }
 },
 "nbformat": 4,
 "nbformat_minor": 5
}
