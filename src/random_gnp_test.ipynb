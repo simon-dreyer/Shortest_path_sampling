{
 "cells": [
  {
   "cell_type": "code",
   "execution_count": 28,
   "id": "b38bc88e",
   "metadata": {},
   "outputs": [
    {
     "name": "stdout",
     "output_type": "stream",
     "text": [
      "10000 0.002763102111592855\n"
     ]
    }
   ],
   "source": [
    "import networkx as nx\n",
    "import math\n",
    "n = 10000\n",
    "p = 3*math.log(n)/n\n",
    "print(n,p)\n",
    "g = nx.fast_gnp_random_graph(n, p, seed=None, directed=False)\n",
    "nx.write_edgelist(g, \"examples/test.edges\", data=False)"
   ]
  },
  {
   "cell_type": "code",
   "execution_count": 31,
   "id": "d7296e64",
   "metadata": {},
   "outputs": [
    {
     "name": "stdout",
     "output_type": "stream",
     "text": [
      "1000 3\n"
     ]
    }
   ],
   "source": [
    "import networkx as nx\n",
    "import math\n",
    "n = 1000\n",
    "m = 3\n",
    "print(n,m)\n",
    "g = nx.barabasi_albert_graph(n, m)\n",
    "nx.write_edgelist(g, \"examples/test_ba.edges\", data=False)"
   ]
  },
  {
   "cell_type": "code",
   "execution_count": 29,
   "id": "21253f18",
   "metadata": {},
   "outputs": [],
   "source": []
  },
  {
   "cell_type": "code",
   "execution_count": 30,
   "id": "3604cfe8",
   "metadata": {},
   "outputs": [
    {
     "data": {
      "text/plain": [
       "True"
      ]
     },
     "execution_count": 30,
     "metadata": {},
     "output_type": "execute_result"
    }
   ],
   "source": [
    "nx.is_connected(g)"
   ]
  },
  {
   "cell_type": "code",
   "execution_count": 39,
   "id": "2e33e2bb",
   "metadata": {},
   "outputs": [
    {
     "name": "stdout",
     "output_type": "stream",
     "text": [
      "The maximal integer occurs on 166 lines with 63\n"
     ]
    }
   ],
   "source": [
    "def count_maximal_integer_lines(file_path):\n",
    "    max_int = None\n",
    "    max_count = 0\n",
    "\n",
    "    # Open the file and read lines\n",
    "    with open(file_path, 'r') as file:\n",
    "        i = 0\n",
    "        for line in file:\n",
    "            # Convert the line to an integer\n",
    "            number = int(line.strip())\n",
    "            \n",
    "            # Update the maximal integer and its count\n",
    "            if max_int is None or number > max_int:\n",
    "                max_int = number\n",
    "                max_count = 1\n",
    "                line_max = i\n",
    "            elif number == max_int:\n",
    "                max_count += 1\n",
    "            i += 1\n",
    "\n",
    "    return max_int, line_max\n",
    "\n",
    "# Example usage:\n",
    "file_path = 'examples/test_ba_i-unrank/nb_paths_3.csv'\n",
    "maximal_lines_count, line = count_maximal_integer_lines(file_path)\n",
    "print(f'The maximal integer occurs on {line} lines with {maximal_lines_count}')\n"
   ]
  },
  {
   "cell_type": "code",
   "execution_count": 42,
   "id": "6dd41eb9",
   "metadata": {},
   "outputs": [
    {
     "name": "stdout",
     "output_type": "stream",
     "text": [
      "Tuple (166, 484, 51, 924, 3) occurs 1604 times\n",
      "Tuple (166, 54, 2, 4, 3) occurs 1521 times\n",
      "Tuple (166, 54, 110, 8, 3) occurs 1586 times\n",
      "Tuple (166, 770, 453, 8, 3) occurs 1569 times\n",
      "Tuple (166, 54, 102, 4, 3) occurs 1590 times\n",
      "Tuple (166, 26, 19, 153, 3) occurs 1603 times\n",
      "Tuple (166, 770, 981, 117, 3) occurs 1548 times\n",
      "Tuple (166, 504, 11, 8, 3) occurs 1518 times\n",
      "Tuple (166, 26, 104, 6, 3) occurs 1599 times\n",
      "Tuple (166, 504, 11, 17, 3) occurs 1501 times\n",
      "Tuple (166, 26, 112, 12, 3) occurs 1638 times\n",
      "Tuple (166, 54, 72, 12, 3) occurs 1618 times\n",
      "Tuple (166, 504, 11, 180, 3) occurs 1578 times\n",
      "Tuple (166, 26, 988, 4, 3) occurs 1578 times\n",
      "Tuple (166, 26, 19, 69, 3) occurs 1616 times\n",
      "Tuple (166, 26, 10, 20, 3) occurs 1513 times\n",
      "Tuple (166, 54, 47, 4, 3) occurs 1577 times\n",
      "Tuple (166, 78, 21, 0, 3) occurs 1608 times\n",
      "Tuple (166, 54, 441, 377, 3) occurs 1587 times\n",
      "Tuple (166, 54, 5, 0, 3) occurs 1576 times\n",
      "Tuple (166, 26, 22, 38, 3) occurs 1606 times\n",
      "Tuple (166, 770, 7, 8, 3) occurs 1581 times\n",
      "Tuple (166, 26, 19, 629, 3) occurs 1605 times\n",
      "Tuple (166, 26, 22, 8, 3) occurs 1604 times\n",
      "Tuple (166, 54, 2, 24, 3) occurs 1532 times\n",
      "Tuple (166, 54, 261, 8, 3) occurs 1668 times\n",
      "Tuple (166, 78, 562, 38, 3) occurs 1651 times\n",
      "Tuple (166, 78, 21, 113, 3) occurs 1561 times\n",
      "Tuple (166, 26, 147, 8, 3) occurs 1549 times\n",
      "Tuple (166, 504, 11, 4, 3) occurs 1547 times\n",
      "Tuple (166, 26, 360, 308, 3) occurs 1588 times\n",
      "Tuple (166, 78, 340, 38, 3) occurs 1561 times\n",
      "Tuple (166, 78, 506, 117, 3) occurs 1634 times\n",
      "Tuple (166, 78, 98, 17, 3) occurs 1503 times\n",
      "Tuple (166, 26, 19, 6, 3) occurs 1606 times\n",
      "Tuple (166, 26, 10, 322, 3) occurs 1621 times\n",
      "Tuple (166, 26, 789, 263, 3) occurs 1608 times\n",
      "Tuple (166, 78, 21, 17, 3) occurs 1554 times\n",
      "Tuple (166, 26, 10, 6, 3) occurs 1570 times\n",
      "Tuple (166, 26, 19, 8, 3) occurs 1615 times\n",
      "Tuple (166, 26, 57, 8, 3) occurs 1598 times\n",
      "Tuple (166, 26, 82, 116, 3) occurs 1619 times\n",
      "Tuple (166, 26, 19, 4, 3) occurs 1591 times\n",
      "Tuple (166, 504, 11, 20, 3) occurs 1568 times\n",
      "Tuple (166, 484, 483, 73, 3) occurs 1637 times\n",
      "Tuple (166, 480, 7, 12, 3) occurs 1589 times\n",
      "Tuple (166, 26, 22, 322, 3) occurs 1572 times\n",
      "Tuple (166, 54, 2, 0, 3) occurs 1663 times\n",
      "Tuple (166, 54, 102, 153, 3) occurs 1553 times\n",
      "Tuple (166, 26, 22, 41, 3) occurs 1595 times\n",
      "Tuple (166, 480, 7, 8, 3) occurs 1623 times\n",
      "Tuple (166, 480, 577, 9, 3) occurs 1565 times\n",
      "Tuple (166, 54, 685, 4, 3) occurs 1634 times\n",
      "Tuple (166, 480, 7, 24, 3) occurs 1645 times\n",
      "Tuple (166, 504, 11, 73, 3) occurs 1539 times\n",
      "Tuple (166, 78, 1, 0, 3) occurs 1590 times\n",
      "Tuple (166, 26, 32, 6, 3) occurs 1626 times\n",
      "Tuple (166, 54, 82, 116, 3) occurs 1633 times\n",
      "Tuple (166, 78, 900, 4, 3) occurs 1616 times\n",
      "Tuple (166, 770, 7, 24, 3) occurs 1587 times\n",
      "Tuple (166, 770, 7, 12, 3) occurs 1529 times\n",
      "Tuple (166, 480, 72, 12, 3) occurs 1578 times\n",
      "Tuple (166, 26, 10, 4, 3) occurs 1558 times\n"
     ]
    }
   ],
   "source": [
    "from collections import Counter\n",
    "\n",
    "def read_file_and_count_tuples(file_path):\n",
    "    # Initialize a Counter to count the occurrences of each tuple\n",
    "    tuple_counter = Counter()\n",
    "\n",
    "    # Open the file and read lines\n",
    "    with open(file_path, 'r') as file:\n",
    "        for line in file:\n",
    "            # Strip newline characters and split the line by commas\n",
    "            numbers = line.strip().split(',')\n",
    "            # Convert the split strings to integers and create a tuple\n",
    "            number_tuple = tuple(map(int, numbers))\n",
    "            # Increment the count of the tuple in the Counter\n",
    "            tuple_counter[number_tuple] += 1\n",
    "\n",
    "    return tuple_counter\n",
    "\n",
    "# Example usage:\n",
    "file_path = 'examples/test_ba_b-unrank/queries_100000.txt'\n",
    "tuple_counts = read_file_and_count_tuples(file_path)\n",
    "\n",
    "# Print the counts of each tuple\n",
    "for number_tuple, count in tuple_counts.items():\n",
    "    print(f'Tuple {number_tuple} occurs {count} times')\n"
   ]
  },
  {
   "cell_type": "code",
   "execution_count": 47,
   "id": "05f1ced6",
   "metadata": {},
   "outputs": [
    {
     "name": "stdout",
     "output_type": "stream",
     "text": [
      "0.0 0.024444444444444435\n"
     ]
    }
   ],
   "source": [
    "from scipy.stats import wasserstein_distance\n",
    "x = wasserstein_distance([1/3, 1/3, 1/3], [1/3, 1/3, 1/3])\n",
    "y = wasserstein_distance([1/3, 1/3, 1/3], [0.37, 0.315, 0.315])\n",
    "print(x,y)"
   ]
  },
  {
   "cell_type": "code",
   "execution_count": 2,
   "id": "70ecd217",
   "metadata": {},
   "outputs": [
    {
     "name": "stdout",
     "output_type": "stream",
     "text": [
      "0.1111111111111111 0.024444444444444435\n"
     ]
    }
   ],
   "source": [
    "from scipy.stats import wasserstein_distance\n",
    "z = wasserstein_distance([1/3, 1/3, 1/3], [1/2, 1/4, 1/4])\n",
    "t = wasserstein_distance([1/3, 1/3, 1/3], [0.37, 0.315, 0.315])\n",
    "print(z,t)"
   ]
  },
  {
   "cell_type": "code",
   "execution_count": null,
   "id": "a0669a5c",
   "metadata": {},
   "outputs": [],
   "source": []
  }
 ],
 "metadata": {
  "kernelspec": {
   "display_name": "Python 3 (ipykernel)",
   "language": "python",
   "name": "python3"
  },
  "language_info": {
   "codemirror_mode": {
    "name": "ipython",
    "version": 3
   },
   "file_extension": ".py",
   "mimetype": "text/x-python",
   "name": "python",
   "nbconvert_exporter": "python",
   "pygments_lexer": "ipython3",
   "version": "3.10.12"
  }
 },
 "nbformat": 4,
 "nbformat_minor": 5
}
