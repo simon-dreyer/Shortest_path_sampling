{
 "cells": [
  {
   "cell_type": "code",
   "execution_count": 1,
   "id": "b38bc88e",
   "metadata": {},
   "outputs": [
    {
     "name": "stdout",
     "output_type": "stream",
     "text": [
      "100 0.03\n"
     ]
    }
   ],
   "source": [
    "import networkx as nx\n",
    "import math\n",
    "n = 100\n",
    "p = 3/n\n",
    "print(n,p)\n",
    "g = nx.fast_gnp_random_graph(n, p, seed=None, directed=True)\n",
    "nx.write_edgelist(g, \"examples/test.edges\", data=False)"
   ]
  },
  {
   "cell_type": "code",
   "execution_count": 33,
   "id": "1160512c",
   "metadata": {},
   "outputs": [],
   "source": [
    "# import networkx as nx\n",
    "# import math\n",
    "# n = 1000\n",
    "# m = 3\n",
    "# print(n,m)\n",
    "# g = nx.barabasi_albert_graph(n, m)\n",
    "# nx.write_edgelist(g, \"examples/test_ba.edges\", data=False)"
   ]
  },
  {
   "cell_type": "code",
   "execution_count": 11,
   "id": "2e33e2bb",
   "metadata": {},
   "outputs": [
    {
     "name": "stdout",
     "output_type": "stream",
     "text": [
      "The maximal integer occurs on 857 lines with 352\n"
     ]
    }
   ],
   "source": [
    "def count_maximal_integer_lines(file_path):\n",
    "    max_int = None\n",
    "    max_count = 0\n",
    "\n",
    "    # Open the file and read lines\n",
    "    with open(file_path, 'r') as file:\n",
    "        i = 0\n",
    "        for line in file:\n",
    "            # Convert the line to an integer\n",
    "            number = int(line.strip())\n",
    "            \n",
    "            # Update the maximal integer and its count\n",
    "            if max_int is None or number > max_int:\n",
    "                max_int = number\n",
    "                max_count = 1\n",
    "                line_max = i\n",
    "            elif number == max_int:\n",
    "                max_count += 1\n",
    "            i += 1\n",
    "\n",
    "    return max_int, line_max\n",
    "\n",
    "# Example usage:\n",
    "file_path = 'examples/test_b-unrank/nb_paths_0.csv'\n",
    "maximal_lines_count, line = count_maximal_integer_lines(file_path)\n",
    "print(f'The maximal integer occurs on {line} lines with {maximal_lines_count}')\n"
   ]
  },
  {
   "cell_type": "code",
   "execution_count": 4,
   "id": "6dd41eb9",
   "metadata": {},
   "outputs": [
    {
     "name": "stdout",
     "output_type": "stream",
     "text": [
      "Tuple (607, 462, 664, 0) occurs 3338 times\n",
      "Tuple (607, 951, 989, 0) occurs 3315 times\n",
      "Tuple (607, 436, 664, 0) occurs 3330 times\n",
      "Tuple (607, 374, 989, 0) occurs 3378 times\n",
      "Tuple (607, 952, 384, 0) occurs 3347 times\n",
      "Tuple (607, 499, 239, 0) occurs 3412 times\n",
      "Tuple (607, 484, 384, 0) occurs 3350 times\n",
      "Tuple (607, 524, 412, 0) occurs 3252 times\n",
      "Tuple (607, 710, 405, 0) occurs 3302 times\n",
      "Tuple (607, 374, 384, 0) occurs 3434 times\n",
      "Tuple (607, 569, 617, 0) occurs 3226 times\n",
      "Tuple (607, 58, 664, 0) occurs 3322 times\n",
      "Tuple (607, 409, 154, 0) occurs 3328 times\n",
      "Tuple (607, 409, 841, 0) occurs 3302 times\n",
      "Tuple (607, 157, 403, 0) occurs 3265 times\n",
      "Tuple (607, 952, 57, 0) occurs 3336 times\n",
      "Tuple (607, 453, 443, 0) occurs 3401 times\n",
      "Tuple (607, 157, 970, 0) occurs 3386 times\n",
      "Tuple (607, 345, 239, 0) occurs 3365 times\n",
      "Tuple (607, 679, 342, 0) occurs 3297 times\n",
      "Tuple (607, 374, 664, 0) occurs 3345 times\n",
      "Tuple (607, 993, 57, 0) occurs 3279 times\n",
      "Tuple (607, 462, 811, 0) occurs 3303 times\n",
      "Tuple (607, 457, 699, 0) occurs 3373 times\n",
      "Tuple (607, 157, 405, 0) occurs 3245 times\n",
      "Tuple (607, 151, 730, 0) occurs 3283 times\n",
      "Tuple (607, 962, 405, 0) occurs 3418 times\n",
      "Tuple (607, 539, 384, 0) occurs 3373 times\n",
      "Tuple (607, 952, 617, 0) occurs 3307 times\n",
      "Tuple (607, 653, 730, 0) occurs 3388 times\n"
     ]
    }
   ],
   "source": [
    "from collections import Counter\n",
    "\n",
    "def read_file_and_count_tuples(file_path):\n",
    "    # Initialize a Counter to count the occurrences of each tuple\n",
    "    tuple_counter = Counter()\n",
    "\n",
    "    # Open the file and read lines\n",
    "    with open(file_path, 'r') as file:\n",
    "        for line in file:\n",
    "            # Strip newline characters and split the line by commas\n",
    "            numbers = line.strip().split(',')\n",
    "            # Convert the split strings to integers and create a tuple\n",
    "            number_tuple = tuple(map(int, numbers))\n",
    "            # Increment the count of the tuple in the Counter\n",
    "            tuple_counter[number_tuple] += 1\n",
    "\n",
    "    return tuple_counter\n",
    "\n",
    "# Example usage:\n",
    "file_path = 'examples/test_alias-unrank/queries_100000.txt'\n",
    "tuple_counts = read_file_and_count_tuples(file_path)\n",
    "\n",
    "# Print the counts of each tuple\n",
    "for number_tuple, count in tuple_counts.items():\n",
    "    print(f'Tuple {number_tuple} occurs {count} times')\n"
   ]
  },
  {
   "cell_type": "code",
   "execution_count": 5,
   "id": "05f1ced6",
   "metadata": {},
   "outputs": [],
   "source": [
    "# from scipy.stats import wasserstein_distance\n",
    "# x = wasserstein_distance([1/3, 1/3, 1/3], [1/3, 1/3, 1/3])\n",
    "# y = wasserstein_distance([1/3, 1/3, 1/3], [0.37, 0.315, 0.315])\n",
    "# print(x,y)"
   ]
  },
  {
   "cell_type": "code",
   "execution_count": 6,
   "id": "70ecd217",
   "metadata": {},
   "outputs": [],
   "source": [
    "# from scipy.stats import wasserstein_distance\n",
    "# z = wasserstein_distance([1/3, 1/3, 1/3], [1/2, 1/4, 1/4])\n",
    "# t = wasserstein_distance([1/3, 1/3, 1/3], [0.37, 0.315, 0.315])\n",
    "# print(z,t)"
   ]
  },
  {
   "cell_type": "code",
   "execution_count": null,
   "id": "8802e72e",
   "metadata": {},
   "outputs": [],
   "source": []
  }
 ],
 "metadata": {
  "kernelspec": {
   "display_name": "Python 3 (ipykernel)",
   "language": "python",
   "name": "python3"
  },
  "language_info": {
   "codemirror_mode": {
    "name": "ipython",
    "version": 3
   },
   "file_extension": ".py",
   "mimetype": "text/x-python",
   "name": "python",
   "nbconvert_exporter": "python",
   "pygments_lexer": "ipython3",
   "version": "3.10.12"
  }
 },
 "nbformat": 4,
 "nbformat_minor": 5
}
