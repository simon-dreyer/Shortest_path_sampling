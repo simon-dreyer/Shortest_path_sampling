{
 "cells": [
  {
   "cell_type": "code",
   "execution_count": 213,
   "id": "b38bc88e",
   "metadata": {},
   "outputs": [
    {
     "name": "stdout",
     "output_type": "stream",
     "text": [
      "100 0.2302585092994046\n"
     ]
    }
   ],
   "source": [
    "#DELETE THE CURRENT TESTS IF EXIST\n",
    "import networkx as nx\n",
    "import math\n",
    "import random\n",
    "n = 100\n",
    "p = (5*math.log(n))/n\n",
    "print(n,p)\n",
    "g = nx.fast_gnp_random_graph(n, p, seed=None, directed=False)\n",
    "nx.write_edgelist(g, \"examples/test.edges\", data=False)"
   ]
  },
  {
   "cell_type": "code",
   "execution_count": 214,
   "id": "1160512c",
   "metadata": {},
   "outputs": [],
   "source": [
    "# import networkx as nx\n",
    "# import math\n",
    "# n = 1000\n",
    "# m = 3\n",
    "# print(n,m)\n",
    "# g = nx.barabasi_albert_graph(n, m)\n",
    "# nx.write_edgelist(g, \"examples/test_ba.edges\", data=False)"
   ]
  },
  {
   "cell_type": "code",
   "execution_count": 374,
   "id": "2e33e2bb",
   "metadata": {},
   "outputs": [
    {
     "name": "stdout",
     "output_type": "stream",
     "text": [
      "[19, 14]\n",
      "file_path examples/test_binary/nb_paths_19.csv\n",
      "open examples/test_binary/nb_paths_19.csv\n",
      "The maximal integer occurs on 90 lines with 20\n",
      "Graph name : examples/test\n",
      "preprocessing for this type is already present\n",
      "start queries\n",
      "******************************\n",
      "count time not operations\n",
      "19.267000 ms.\n",
      "0 operations.\n",
      "end queries\n"
     ]
    },
    {
     "data": {
      "text/plain": [
       "CompletedProcess(args=['./main', 'examples/test.edges', 'u', 'binary', '19', '90', '100000', 't'], returncode=0)"
      ]
     },
     "execution_count": 374,
     "metadata": {},
     "output_type": "execute_result"
    }
   ],
   "source": [
    "nb_queries = 100000\n",
    "alg = \"binary\"\n",
    "e = random.sample([ i for i in range(n)], k = 2)\n",
    "print(e)\n",
    "import subprocess\n",
    "\n",
    "subprocess.run([ \"./main\", \"examples/test.edges\", \"d\" , alg, str(e[0]) , str(e[1]), str(nb_queries), \"t\" ])\n",
    "def count_maximal_integer_lines(file_path):\n",
    "    max_int = None\n",
    "    # Open the file and read lines\n",
    "    print(\"open\", file_path)\n",
    "    with open(file_path, 'r') as file:\n",
    "        i = 0\n",
    "        for line in file:\n",
    "            # Convert the line to an integer\n",
    "            number = int(line.strip())\n",
    "            \n",
    "            # Update the maximal integer and its count\n",
    "            if max_int is None or number > max_int:\n",
    "                max_int = number\n",
    "                line_max = i\n",
    "            i += 1\n",
    "\n",
    "    return max_int, line_max\n",
    "\n",
    "# Example usage:\n",
    "file_path = \"examples/test_\" + alg+ \"/nb_paths_\" + str(e[0])  +\".csv\"\n",
    "#file_path = \"examples/test_\" + alg+ \"/nb_paths_\" + str(\"54\")  +\".csv\"\n",
    "print(\"file_path\", file_path)\n",
    "maximal_lines_count, line = count_maximal_integer_lines(file_path)\n",
    "print(f'The maximal integer occurs on {line} lines with {maximal_lines_count}')\n",
    "subprocess.run([ \"./main\", \"examples/test.edges\", \"u\" , alg, str(e[0]) , str(line), str(nb_queries), \"t\" ])\n",
    "#subprocess.run([ \"./main\", \"examples/test.edges\", \"d\" , alg, str(\"54\") , str(\"1\"), str(nb_queries), \"t\" ])"
   ]
  },
  {
   "cell_type": "code",
   "execution_count": 375,
   "id": "6dd41eb9",
   "metadata": {},
   "outputs": [
    {
     "name": "stdout",
     "output_type": "stream",
     "text": [
      "Tuple (90, 74, 63, 19) occurs 0.04988 times\n",
      "Tuple (90, 80, 36, 19) occurs 0.04923 times\n",
      "Tuple (90, 80, 51, 19) occurs 0.04997 times\n",
      "Tuple (90, 82, 36, 19) occurs 0.05229 times\n",
      "Tuple (90, 80, 45, 19) occurs 0.0504 times\n",
      "Tuple (90, 89, 73, 19) occurs 0.05047 times\n",
      "Tuple (90, 89, 75, 19) occurs 0.04981 times\n",
      "Tuple (90, 82, 45, 19) occurs 0.04904 times\n",
      "Tuple (90, 78, 76, 19) occurs 0.04952 times\n",
      "Tuple (90, 80, 48, 19) occurs 0.05117 times\n",
      "Tuple (90, 78, 45, 19) occurs 0.05092 times\n",
      "Tuple (90, 65, 40, 19) occurs 0.04902 times\n",
      "Tuple (90, 70, 50, 19) occurs 0.0499 times\n",
      "Tuple (90, 65, 50, 19) occurs 0.05028 times\n",
      "Tuple (90, 74, 40, 19) occurs 0.04944 times\n",
      "Tuple (90, 89, 86, 19) occurs 0.04953 times\n",
      "Tuple (90, 65, 51, 19) occurs 0.04895 times\n",
      "Tuple (90, 78, 69, 19) occurs 0.05017 times\n",
      "Tuple (90, 89, 40, 19) occurs 0.05039 times\n",
      "Tuple (90, 89, 63, 19) occurs 0.04962 times\n"
     ]
    }
   ],
   "source": [
    "from collections import Counter\n",
    "\n",
    "def read_file_and_count_tuples(file_path):\n",
    "    # Initialize a Counter to count the occurrences of each tuple\n",
    "    tuple_counter = Counter()\n",
    "\n",
    "    # Open the file and read lines\n",
    "    with open(file_path, 'r') as file:\n",
    "        for line in file:\n",
    "            # Strip newline characters and split the line by commas\n",
    "            numbers = line.strip().split(',')\n",
    "            # Convert the split strings to integers and create a tuple\n",
    "            number_tuple = tuple(map(int, numbers))\n",
    "            # Increment the count of the tuple in the Counter\n",
    "            tuple_counter[number_tuple] += 1\n",
    "\n",
    "    return tuple_counter\n",
    "\n",
    "# Example usage:\n",
    "file_path = 'examples/test_' + alg + '/queries_' + str(nb_queries) + '.txt'\n",
    "tuple_counts = read_file_and_count_tuples(file_path)\n",
    "\n",
    "# Print the counts of each tuple\n",
    "for number_tuple, count in tuple_counts.items():\n",
    "    print(f'Tuple {number_tuple} occurs {count/nb_queries} times')\n"
   ]
  },
  {
   "cell_type": "code",
   "execution_count": 376,
   "id": "05f1ced6",
   "metadata": {},
   "outputs": [],
   "source": [
    "# from scipy.stats import wasserstein_distance\n",
    "# x = wasserstein_distance([1/3, 1/3, 1/3], [1/3, 1/3, 1/3])\n",
    "# y = wasserstein_distance([1/3, 1/3, 1/3], [0.37, 0.315, 0.315])\n",
    "# print(x,y)"
   ]
  },
  {
   "cell_type": "code",
   "execution_count": 377,
   "id": "70ecd217",
   "metadata": {},
   "outputs": [],
   "source": [
    "# from scipy.stats import wasserstein_distance\n",
    "# z = wasserstein_distance([1/3, 1/3, 1/3], [1/2, 1/4, 1/4])\n",
    "# t = wasserstein_distance([1/3, 1/3, 1/3], [0.37, 0.315, 0.315])\n",
    "# print(z,t)"
   ]
  },
  {
   "cell_type": "code",
   "execution_count": 371,
   "id": "8802e72e",
   "metadata": {},
   "outputs": [],
   "source": [
    "g = nx.read_edgelist(\"examples/test.edges\", create_using=nx.DiGraph, data=False)"
   ]
  },
  {
   "cell_type": "code",
   "execution_count": 372,
   "id": "4a2a12c4",
   "metadata": {},
   "outputs": [
    {
     "name": "stdout",
     "output_type": "stream",
     "text": [
      "55 99\n",
      "5\n",
      "[['55', '66', '99'], ['55', '78', '99'], ['55', '79', '99'], ['55', '82', '99'], ['55', '91', '99']]\n"
     ]
    }
   ],
   "source": [
    "print(str(e[0]) , str(line))\n",
    "sh = list(nx.all_shortest_paths(g, str(e[0]) , str(line)))\n",
    "#sh = list(nx.all_shortest_paths(g, str(\"54\") , str(\"1\")))\n",
    "quer = dict()\n",
    "tsh = [ tuple(reversed(list(map(int,e)))) for e in sh ]\n",
    "print(len(sh))\n",
    "print(sh)"
   ]
  },
  {
   "cell_type": "code",
   "execution_count": 373,
   "id": "955b091f",
   "metadata": {},
   "outputs": [],
   "source": [
    "for e in tsh:\n",
    "    if e not in tuple_counts.keys():\n",
    "        print(\"prob\", e)\n",
    "for e in  tuple_counts.keys():\n",
    "    if e not in tsh:\n",
    "        print(\"prob2\", e)"
   ]
  },
  {
   "cell_type": "code",
   "execution_count": null,
   "id": "e839cb08",
   "metadata": {},
   "outputs": [],
   "source": []
  }
 ],
 "metadata": {
  "kernelspec": {
   "display_name": "Python 3 (ipykernel)",
   "language": "python",
   "name": "python3"
  },
  "language_info": {
   "codemirror_mode": {
    "name": "ipython",
    "version": 3
   },
   "file_extension": ".py",
   "mimetype": "text/x-python",
   "name": "python",
   "nbconvert_exporter": "python",
   "pygments_lexer": "ipython3",
   "version": "3.10.12"
  }
 },
 "nbformat": 4,
 "nbformat_minor": 5
}
