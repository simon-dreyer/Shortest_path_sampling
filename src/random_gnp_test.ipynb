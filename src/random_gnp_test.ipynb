{
 "cells": [
  {
   "cell_type": "code",
   "execution_count": 108,
   "id": "b38bc88e",
   "metadata": {},
   "outputs": [
    {
     "name": "stdout",
     "output_type": "stream",
     "text": [
      "1000 0.02072326583694641\n"
     ]
    }
   ],
   "source": [
    "import networkx as nx\n",
    "import math\n",
    "n = 1000\n",
    "p = 3*math.log(n)/n\n",
    "print(n,p)\n",
    "g = nx.fast_gnp_random_graph(n, p, seed=None, directed=False)"
   ]
  },
  {
   "cell_type": "code",
   "execution_count": 109,
   "id": "21253f18",
   "metadata": {},
   "outputs": [],
   "source": [
    "nx.write_edgelist(g, \"examples/test.edges\", data=False)"
   ]
  },
  {
   "cell_type": "code",
   "execution_count": 110,
   "id": "3604cfe8",
   "metadata": {},
   "outputs": [
    {
     "data": {
      "text/plain": [
       "True"
      ]
     },
     "execution_count": 110,
     "metadata": {},
     "output_type": "execute_result"
    }
   ],
   "source": [
    "nx.is_connected(g)"
   ]
  },
  {
   "cell_type": "code",
   "execution_count": 115,
   "id": "2e33e2bb",
   "metadata": {},
   "outputs": [
    {
     "name": "stdout",
     "output_type": "stream",
     "text": [
      "The maximal integer occurs on 1 lines\n"
     ]
    }
   ],
   "source": [
    "def count_maximal_integer_lines(file_path):\n",
    "    max_int = None\n",
    "    max_count = 0\n",
    "\n",
    "    # Open the file and read lines\n",
    "    with open(file_path, 'r') as file:\n",
    "        for line in file:\n",
    "            # Convert the line to an integer\n",
    "            number = int(line.strip())\n",
    "            \n",
    "            # Update the maximal integer and its count\n",
    "            if max_int is None or number > max_int:\n",
    "                max_int = number\n",
    "                max_count = 1\n",
    "            elif number == max_int:\n",
    "                max_count += 1\n",
    "\n",
    "    return max_count\n",
    "\n",
    "# Example usage:\n",
    "file_path = 'examples/test_i-unrank/nb_paths_0.csv'\n",
    "maximal_lines_count = count_maximal_integer_lines(file_path)\n",
    "print(f'The maximal integer occurs on {maximal_lines_count} lines')\n"
   ]
  },
  {
   "cell_type": "code",
   "execution_count": 118,
   "id": "6dd41eb9",
   "metadata": {},
   "outputs": [
    {
     "name": "stdout",
     "output_type": "stream",
     "text": [
      "Tuple (1, 65, 978, 0) occurs 9 times\n",
      "Tuple (1, 209, 760, 0) occurs 13 times\n",
      "Tuple (1, 894, 277, 0) occurs 7 times\n",
      "Tuple (1, 417, 805, 0) occurs 10 times\n",
      "Tuple (1, 113, 26, 0) occurs 7 times\n",
      "Tuple (1, 552, 370, 0) occurs 14 times\n",
      "Tuple (1, 10, 26, 0) occurs 11 times\n",
      "Tuple (1, 417, 545, 0) occurs 7 times\n",
      "Tuple (1, 417, 26, 0) occurs 11 times\n",
      "Tuple (1, 194, 370, 0) occurs 11 times\n"
     ]
    }
   ],
   "source": [
    "from collections import Counter\n",
    "\n",
    "def read_file_and_count_tuples(file_path):\n",
    "    # Initialize a Counter to count the occurrences of each tuple\n",
    "    tuple_counter = Counter()\n",
    "\n",
    "    # Open the file and read lines\n",
    "    with open(file_path, 'r') as file:\n",
    "        for line in file:\n",
    "            # Strip newline characters and split the line by commas\n",
    "            numbers = line.strip().split(',')\n",
    "            # Convert the split strings to integers and create a tuple\n",
    "            number_tuple = tuple(map(int, numbers))\n",
    "            # Increment the count of the tuple in the Counter\n",
    "            tuple_counter[number_tuple] += 1\n",
    "\n",
    "    return tuple_counter\n",
    "\n",
    "# Example usage:\n",
    "file_path = 'examples/test_i-unrank/queries_100.txt'\n",
    "tuple_counts = read_file_and_count_tuples(file_path)\n",
    "\n",
    "# Print the counts of each tuple\n",
    "for number_tuple, count in tuple_counts.items():\n",
    "    print(f'Tuple {number_tuple} occurs {count} times')\n"
   ]
  },
  {
   "cell_type": "code",
   "execution_count": null,
   "id": "05f1ced6",
   "metadata": {},
   "outputs": [],
   "source": []
  }
 ],
 "metadata": {
  "kernelspec": {
   "display_name": "Python 3 (ipykernel)",
   "language": "python",
   "name": "python3"
  },
  "language_info": {
   "codemirror_mode": {
    "name": "ipython",
    "version": 3
   },
   "file_extension": ".py",
   "mimetype": "text/x-python",
   "name": "python",
   "nbconvert_exporter": "python",
   "pygments_lexer": "ipython3",
   "version": "3.10.12"
  }
 },
 "nbformat": 4,
 "nbformat_minor": 5
}
