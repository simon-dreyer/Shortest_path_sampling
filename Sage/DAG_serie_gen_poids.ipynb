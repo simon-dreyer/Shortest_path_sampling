{
 "cells": [
  {
   "cell_type": "code",
   "execution_count": 17,
   "id": "c832b99c",
   "metadata": {},
   "outputs": [],
   "source": [
    "import numpy as np"
   ]
  },
  {
   "cell_type": "markdown",
   "id": "d88326a4",
   "metadata": {},
   "source": [
    "# Formule brute"
   ]
  },
  {
   "cell_type": "code",
   "execution_count": 9,
   "id": "0fa92e30",
   "metadata": {},
   "outputs": [],
   "source": [
    "d = [1,1,1]\n",
    "N = 20\n",
    "for n in range(2, N+1):\n",
    "    d.append(      sum(   prod( (2^(e[k]) - 1)^(e[k+1])  for k in range( len(e) - 1 )  )   for e in Compositions(n)   ) )"
   ]
  },
  {
   "cell_type": "code",
   "execution_count": 10,
   "id": "32514a80",
   "metadata": {
    "scrolled": true
   },
   "outputs": [
    {
     "data": {
      "text/plain": [
       "[1,\n",
       " 1,\n",
       " 1,\n",
       " 2,\n",
       " 6,\n",
       " 26,\n",
       " 158,\n",
       " 1330,\n",
       " 15486,\n",
       " 249922,\n",
       " 5604814,\n",
       " 175056146,\n",
       " 7628956638,\n",
       " 464655604898,\n",
       " 39609038092718,\n",
       " 4731618937076338,\n",
       " 792973278284412990,\n",
       " 186623978752405105282,\n",
       " 61730172757847094175630,\n",
       " 28718866772631002557245650,\n",
       " 18803646723690572815491547038,\n",
       " 17336342029764198323788395438434]"
      ]
     },
     "execution_count": 10,
     "metadata": {},
     "output_type": "execute_result"
    }
   ],
   "source": [
    "d"
   ]
  },
  {
   "cell_type": "markdown",
   "id": "801ee518",
   "metadata": {},
   "source": [
    "# Poids = 2^binom(n,2)"
   ]
  },
  {
   "cell_type": "code",
   "execution_count": 109,
   "id": "674c606a",
   "metadata": {},
   "outputs": [],
   "source": [
    "R = PolynomialRing(QQ, 'x,y,z')"
   ]
  },
  {
   "cell_type": "code",
   "execution_count": 110,
   "id": "c902d17e",
   "metadata": {},
   "outputs": [],
   "source": [
    "x, y, z = R.gens()"
   ]
  },
  {
   "cell_type": "code",
   "execution_count": 111,
   "id": "9888c2eb",
   "metadata": {
    "scrolled": true
   },
   "outputs": [
    {
     "data": {
      "text/plain": [
       "1/2*x^2*y*z"
      ]
     },
     "execution_count": 111,
     "metadata": {},
     "output_type": "execute_result"
    }
   ],
   "source": [
    "F2 = x^2*y*z/2\n",
    "F2"
   ]
  },
  {
   "cell_type": "code",
   "execution_count": 112,
   "id": "537ab6ea",
   "metadata": {},
   "outputs": [],
   "source": [
    "N = 50\n",
    "F2 = 1/2*x^2*y*z\n",
    "F = F2\n",
    "for l in range(N):\n",
    "    F = (F2  + x*z*(F.subs(x = x/2).subs(y = 2*y) - F.subs(x = x/2)) + x*z*(F.subs(x = x/2).subs(y = 1).subs(z = 2*y) - F.subs(x = x/2).subs(y = 1).subs(z = y)))"
   ]
  },
  {
   "cell_type": "markdown",
   "id": "4c0cec4c",
   "metadata": {},
   "source": [
    "Coefficients"
   ]
  },
  {
   "cell_type": "code",
   "execution_count": 113,
   "id": "909450be",
   "metadata": {},
   "outputs": [],
   "source": [
    "G = F.subs(y = 1, z=1) + x + 1"
   ]
  },
  {
   "cell_type": "code",
   "execution_count": 114,
   "id": "a011fbd4",
   "metadata": {},
   "outputs": [
    {
     "data": {
      "text/plain": [
       "53"
      ]
     },
     "execution_count": 114,
     "metadata": {},
     "output_type": "execute_result"
    }
   ],
   "source": [
    "dn_red = G.coefficients()\n",
    "dn_red.reverse()\n",
    "len(dn_red)"
   ]
  },
  {
   "cell_type": "code",
   "execution_count": 16,
   "id": "5b799b7e",
   "metadata": {},
   "outputs": [
    {
     "data": {
      "text/plain": [
       "[True,\n",
       " True,\n",
       " True,\n",
       " True,\n",
       " True,\n",
       " True,\n",
       " True,\n",
       " True,\n",
       " True,\n",
       " True,\n",
       " True,\n",
       " True,\n",
       " True,\n",
       " True,\n",
       " True,\n",
       " True,\n",
       " True,\n",
       " True,\n",
       " True,\n",
       " True,\n",
       " True,\n",
       " True]"
      ]
     },
     "execution_count": 16,
     "metadata": {},
     "output_type": "execute_result"
    }
   ],
   "source": [
    "[d[i]/2^binomial(i,2) == dn_red[i] for i in range(min(len(dn_red), len(d)))]"
   ]
  },
  {
   "cell_type": "markdown",
   "id": "04e1ea2d",
   "metadata": {},
   "source": [
    "## Fonction génératrice"
   ]
  },
  {
   "cell_type": "code",
   "execution_count": 124,
   "id": "9d4117a3",
   "metadata": {},
   "outputs": [
    {
     "data": {
      "image/png": "[encoded data removed]",
      "text/plain": [
       "Graphics object consisting of 1 graphics primitive"
      ]
     },
     "execution_count": 124,
     "metadata": {},
     "output_type": "execute_result"
    }
   ],
   "source": [
    "point([(t,float(G.subs(x = t))) for t in np.linspace(-1,1,50)])"
   ]
  },
  {
   "cell_type": "code",
   "execution_count": 128,
   "id": "61529799",
   "metadata": {},
   "outputs": [
    {
     "data": {
      "image/png": "[encoded data removed]",
      "text/plain": [
       "Graphics object consisting of 1 graphics primitive"
      ]
     },
     "execution_count": 128,
     "metadata": {},
     "output_type": "execute_result"
    }
   ],
   "source": [
    "point([(t,log(float(G.subs(x = t)))) for t in np.linspace(-1,1,50)]) "
   ]
  },
  {
   "cell_type": "markdown",
   "id": "e30e95c1",
   "metadata": {},
   "source": [
    "# Poids = 2^(binom(n,2)/2)"
   ]
  },
  {
   "cell_type": "code",
   "execution_count": 55,
   "id": "2734d6b5",
   "metadata": {},
   "outputs": [],
   "source": [
    "A = QQ[sqrt(2)]\n",
    "R = PolynomialRing(A, 'x,y,z')"
   ]
  },
  {
   "cell_type": "code",
   "execution_count": 56,
   "id": "a0b47ea6",
   "metadata": {},
   "outputs": [],
   "source": [
    "sqrt2 = A.gen() \n",
    "x, y, z = R.gens()"
   ]
  },
  {
   "cell_type": "code",
   "execution_count": 57,
   "id": "164df74a",
   "metadata": {},
   "outputs": [
    {
     "data": {
      "text/plain": [
       "2"
      ]
     },
     "execution_count": 57,
     "metadata": {},
     "output_type": "execute_result"
    }
   ],
   "source": [
    "sqrt2^2"
   ]
  },
  {
   "cell_type": "code",
   "execution_count": 102,
   "id": "893f4e1a",
   "metadata": {},
   "outputs": [],
   "source": [
    "N = 50\n",
    "F2_bis = x^2*y*z/sqrt2\n",
    "F_bis = F2_bis\n",
    "for l in range(N):\n",
    "    F_bis = (F2_bis  + x*z*(F_bis.subs(x = x/sqrt2).subs(y = 2*y) - F_bis.subs(x = x/sqrt2)) + x*z*(F_bis.subs(x = x/sqrt2).subs(y = 1).subs(z = 2*y) - F_bis.subs(x = x/sqrt2).subs(y = 1).subs(z = y)))"
   ]
  },
  {
   "cell_type": "code",
   "execution_count": 103,
   "id": "033d65da",
   "metadata": {},
   "outputs": [],
   "source": [
    "G_bis = F_bis.subs(y = 1, z=1) + x + 1"
   ]
  },
  {
   "cell_type": "code",
   "execution_count": 104,
   "id": "071567b0",
   "metadata": {},
   "outputs": [
    {
     "data": {
      "text/plain": [
       "53"
      ]
     },
     "execution_count": 104,
     "metadata": {},
     "output_type": "execute_result"
    }
   ],
   "source": [
    "dn_red_bis = G_bis.coefficients()\n",
    "dn_red_bis.reverse()\n",
    "len(dn_red_bis)"
   ]
  },
  {
   "cell_type": "code",
   "execution_count": 84,
   "id": "585e864d",
   "metadata": {},
   "outputs": [
    {
     "data": {
      "text/plain": [
       "[True,\n",
       " True,\n",
       " True,\n",
       " True,\n",
       " True,\n",
       " True,\n",
       " True,\n",
       " True,\n",
       " True,\n",
       " True,\n",
       " True,\n",
       " True,\n",
       " True,\n",
       " True,\n",
       " True,\n",
       " True,\n",
       " True,\n",
       " True,\n",
       " True,\n",
       " True,\n",
       " True,\n",
       " True]"
      ]
     },
     "execution_count": 84,
     "metadata": {},
     "output_type": "execute_result"
    }
   ],
   "source": [
    "[d[i]/sqrt2^(binomial(i,2)) == dn_red_bis[i] for i in range(min(len(dn_red_bis), len(d)))]"
   ]
  },
  {
   "cell_type": "code",
   "execution_count": 63,
   "id": "65c29747",
   "metadata": {},
   "outputs": [
    {
     "data": {
      "text/plain": [
       "1.414213562373095"
      ]
     },
     "execution_count": 63,
     "metadata": {},
     "output_type": "execute_result"
    }
   ],
   "source": [
    "float(sqrt2)"
   ]
  },
  {
   "cell_type": "markdown",
   "id": "bb707c45",
   "metadata": {},
   "source": [
    "## Fonction génératrice"
   ]
  },
  {
   "cell_type": "code",
   "execution_count": 106,
   "id": "7805d272",
   "metadata": {},
   "outputs": [
    {
     "data": {
      "image/png": "[encoded data removed]",
      "text/plain": [
       "Graphics object consisting of 1 graphics primitive"
      ]
     },
     "execution_count": 106,
     "metadata": {},
     "output_type": "execute_result"
    }
   ],
   "source": [
    "point([(t,G_bis.subs(x = t)) for t in np.linspace(0,1,50)])"
   ]
  },
  {
   "cell_type": "code",
   "execution_count": null,
   "id": "3d4323a7",
   "metadata": {},
   "outputs": [],
   "source": []
  }
 ],
 "metadata": {
  "kernelspec": {
   "display_name": "SageMath 10.2",
   "language": "sage",
   "name": "sagemath"
  },
  "language_info": {
   "codemirror_mode": {
    "name": "ipython",
    "version": 3
   },
   "file_extension": ".py",
   "mimetype": "text/x-python",
   "name": "python",
   "nbconvert_exporter": "python",
   "pygments_lexer": "ipython3",
   "version": "3.11.8"
  }
 },
 "nbformat": 4,
 "nbformat_minor": 5
}
